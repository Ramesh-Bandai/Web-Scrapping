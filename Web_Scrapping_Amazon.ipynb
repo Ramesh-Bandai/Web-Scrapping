{
  "nbformat": 4,
  "nbformat_minor": 0,
  "metadata": {
    "colab": {
      "name": "Web Scrapping Amazon.ipynb",
      "provenance": [],
      "collapsed_sections": []
    },
    "kernelspec": {
      "name": "python3",
      "display_name": "Python 3"
    },
    "accelerator": "GPU"
  },
  "cells": [
    {
      "cell_type": "code",
      "metadata": {
        "id": "-BmEMSlKKFal"
      },
      "source": [
        "#Import Packages\r\n",
        "from bs4 import BeautifulSoup\r\n",
        "import requests\r\n",
        "import pandas as pd"
      ],
      "execution_count": 1,
      "outputs": []
    },
    {
      "cell_type": "code",
      "metadata": {
        "id": "0wtcqXfFJw5u"
      },
      "source": [
        "# Headers and Parameters from refreshing page & copying from developer tool & converting cURL\r\n",
        "''' refresh the page----right click anywhere and inspect---go to network tab--check mark for preserve log--click on 'ALL'button--click on 'document' type check box--right click--copy--copy as 'cURL' cmd--open url 'https://curl.trillworks.com' paste code--copt python code & paste in IDE  and at bottom paste current url by removing privious in get method'''\r\n",
        "\r\n",
        "\r\n",
        "\r\n",
        "headers = {\r\n",
        "    'Connection': 'keep-alive',\r\n",
        "    'Cache-Control': 'max-age=0',\r\n",
        "    'sec-ch-ua': '^\\\\^Google',\r\n",
        "    'sec-ch-ua-mobile': '?0',\r\n",
        "    'Upgrade-Insecure-Requests': '1',\r\n",
        "    'User-Agent': 'Mozilla/5.0 (Windows NT 10.0; Win64; x64) AppleWebKit/537.36 (KHTML, like Gecko) Chrome/87.0.4280.88 Safari/537.36',\r\n",
        "    'Accept': 'text/html,application/xhtml+xml,application/xml;q=0.9,image/avif,image/webp,image/apng,*/*;q=0.8,application/signed-exchange;v=b3;q=0.9',\r\n",
        "    'Sec-Fetch-Site': 'same-origin',\r\n",
        "    'Sec-Fetch-Mode': 'navigate',\r\n",
        "    'Sec-Fetch-User': '?1',\r\n",
        "    'Sec-Fetch-Dest': 'document',\r\n",
        "    'Referer': 'https://www.google.com/',\r\n",
        "    'Accept-Language': 'en-US,en;q=0.9',\r\n",
        "}\r\n",
        "\r\n",
        "params = (\r\n",
        "    ('sid', 'tyy^%^2C4mr^'),\r\n",
        "    ('otracker', 'CLP_Filters^'),\r\n",
        "    ('p^%^5B^%^5D', ['facets.compatible_mobiles^%^255B^%^255D^%^3DMi^%^2BRedmi^%^2BNote^%^2B7^%^2BPro^', 'facets.brand^%^255B^%^255D^%^3DFlipkart^%^2BSmartBuy^', 'facets.brand^%^255B^%^255D^%^3DFlipkart^%^2BSmartbuy^', 'facets.rating^%^255B^%^255D^%^3D4^%^25E2^%^2598^%^2585^%^2B^%^2526^%^2Babove']),\r\n",
        ")\r\n",
        "\r\n",
        "response = requests.get('https://www.flipkart.com/search?sid=tyy%2C4mr&otracker=CLP_Filters&p%5B%5D=facets.compatible_mobiles%255B%255D%3DMi%2BRedmi%2BNote%2B7%2BPro&p%5B%5D=facets.brand%255B%255D%3DFlipkart%2BSmartBuy&p%5B%5D=facets.brand%255B%255D%3DFlipkart%2BSmartbuy&p%5B%5D=facets.rating%255B%255D%3D4%25E2%2598%2585%2B%2526%2Babove', headers=headers, params=params)\r\n",
        "\r\n",
        "#NB. Original query string below. It seems impossible to parse and\r\n",
        "#reproduce query strings 100% accurately so the one below is given\r\n",
        "#in case the reproduced version is not \"correct\".\r\n",
        "# response = requests.get('https://www.flipkart.com/search?sid=tyy^%^2C4mr^&otracker=CLP_Filters^&p^%^5B^%^5D=facets.compatible_mobiles^%^255B^%^255D^%^3DMi^%^2BRedmi^%^2BNote^%^2B7^%^2BPro^&p^%^5B^%^5D=facets.brand^%^255B^%^255D^%^3DFlipkart^%^2BSmartBuy^&p^%^5B^%^5D=facets.brand^%^255B^%^255D^%^3DFlipkart^%^2BSmartbuy^&p^%^5B^%^5D=facets.rating^%^255B^%^255D^%^3D4^%^25E2^%^2598^%^2585^%^2B^%^2526^%^2Babove', headers=headers, cookies=cookies)\r\n"
      ],
      "execution_count": 2,
      "outputs": []
    },
    {
      "cell_type": "code",
      "metadata": {
        "colab": {
          "base_uri": "https://localhost:8080/"
        },
        "id": "bBxsfh_qLj8k",
        "outputId": "55703138-150d-4202-af6f-3a7efb4cf617"
      },
      "source": [
        "response"
      ],
      "execution_count": 3,
      "outputs": [
        {
          "output_type": "execute_result",
          "data": {
            "text/plain": [
              "<Response [200]>"
            ]
          },
          "metadata": {
            "tags": []
          },
          "execution_count": 3
        }
      ]
    },
    {
      "cell_type": "code",
      "metadata": {
        "id": "I_CpkHB-Ly4k"
      },
      "source": [
        "soup=BeautifulSoup(response.text,'html.parser')"
      ],
      "execution_count": 4,
      "outputs": []
    },
    {
      "cell_type": "code",
      "metadata": {
        "id": "35cXCZnLMXOr"
      },
      "source": [
        "#Main Box hoverover taking Tag and class name\r\n",
        "main_box=soup.find_all('div',{'class':\"_4ddWXP\"})"
      ],
      "execution_count": 5,
      "outputs": []
    },
    {
      "cell_type": "code",
      "metadata": {
        "colab": {
          "base_uri": "https://localhost:8080/"
        },
        "id": "myXfhSr4NdBU",
        "outputId": "f6420756-29cd-4686-8e12-2b5b38699405"
      },
      "source": [
        "len(main_box)"
      ],
      "execution_count": 6,
      "outputs": [
        {
          "output_type": "execute_result",
          "data": {
            "text/plain": [
              "40"
            ]
          },
          "metadata": {
            "tags": []
          },
          "execution_count": 6
        }
      ]
    },
    {
      "cell_type": "code",
      "metadata": {
        "id": "yaBBtq1yNxUE"
      },
      "source": [
        "# Main_box contains 40 items all details.we taking 1st item from main box & inspect elements just for checking exact class and all\r\n",
        "box=main_box[0]"
      ],
      "execution_count": 7,
      "outputs": []
    },
    {
      "cell_type": "code",
      "metadata": {
        "colab": {
          "base_uri": "https://localhost:8080/",
          "height": 35
        },
        "id": "34euO9CmPlQG",
        "outputId": "a7507715-a9bd-4d3d-a986-913d6227707c"
      },
      "source": [
        "box.find('a',{'class':\"s1Q9rs\"}).text.strip()"
      ],
      "execution_count": 8,
      "outputs": [
        {
          "output_type": "execute_result",
          "data": {
            "application/vnd.google.colaboratory.intrinsic+json": {
              "type": "string"
            },
            "text/plain": [
              "'Flipkart SmartBuy Back Cover for Mi Redmi Note 7 Pro, M...'"
            ]
          },
          "metadata": {
            "tags": []
          },
          "execution_count": 8
        }
      ]
    },
    {
      "cell_type": "code",
      "metadata": {
        "id": "saob1eXJQcBN"
      },
      "source": [
        "# Just copy and paste & change only Tag and respective class\r\n",
        "#title=box.find('a',{'class':\"s1Q9rs\"}).text.strip()\r\n",
        "#price=box.find('div',{'class':\"_30jeq3\"}).text.strip()\r\n",
        "#review=box.find('div',{'class':\"_3LWZlK\"}).text.strip()"
      ],
      "execution_count": 9,
      "outputs": []
    },
    {
      "cell_type": "code",
      "metadata": {
        "id": "HLNuQ6SeTwe1"
      },
      "source": [
        "data_list=[]\r\n",
        "for box in main_box:\r\n",
        "  temp_dict={}\r\n",
        "  temp_dict['title']=box.find('a',{'class':\"s1Q9rs\"}).text.strip()\r\n",
        "  temp_dict['price']=box.find('div',{'class':\"_30jeq3\"}).text.strip()\r\n",
        "  temp_dict['review']=box.find('div',{'class':\"_3LWZlK\"}).text.strip()\r\n",
        "  data_list.append(temp_dict)"
      ],
      "execution_count": 10,
      "outputs": []
    },
    {
      "cell_type": "code",
      "metadata": {
        "id": "51HO7ZIBVPDG"
      },
      "source": [
        "df=pd.DataFrame(data_list)"
      ],
      "execution_count": 11,
      "outputs": []
    },
    {
      "cell_type": "code",
      "metadata": {
        "colab": {
          "base_uri": "https://localhost:8080/",
          "height": 1000
        },
        "id": "1AeujmUYVtX1",
        "outputId": "9c004e1e-4c99-4f76-f4ce-4e395ad3a499"
      },
      "source": [
        "df"
      ],
      "execution_count": 12,
      "outputs": [
        {
          "output_type": "execute_result",
          "data": {
            "text/html": [
              "<div>\n",
              "<style scoped>\n",
              "    .dataframe tbody tr th:only-of-type {\n",
              "        vertical-align: middle;\n",
              "    }\n",
              "\n",
              "    .dataframe tbody tr th {\n",
              "        vertical-align: top;\n",
              "    }\n",
              "\n",
              "    .dataframe thead th {\n",
              "        text-align: right;\n",
              "    }\n",
              "</style>\n",
              "<table border=\"1\" class=\"dataframe\">\n",
              "  <thead>\n",
              "    <tr style=\"text-align: right;\">\n",
              "      <th></th>\n",
              "      <th>title</th>\n",
              "      <th>price</th>\n",
              "      <th>review</th>\n",
              "    </tr>\n",
              "  </thead>\n",
              "  <tbody>\n",
              "    <tr>\n",
              "      <th>0</th>\n",
              "      <td>Flipkart SmartBuy Back Cover for Mi Redmi Note...</td>\n",
              "      <td>₹199</td>\n",
              "      <td>4.3</td>\n",
              "    </tr>\n",
              "    <tr>\n",
              "      <th>1</th>\n",
              "      <td>Flipkart SmartBuy Flip Cover for Mi Redmi Note...</td>\n",
              "      <td>₹225</td>\n",
              "      <td>4.2</td>\n",
              "    </tr>\n",
              "    <tr>\n",
              "      <th>2</th>\n",
              "      <td>Flipkart SmartBuy Back Cover for Mi Redmi Note...</td>\n",
              "      <td>₹257</td>\n",
              "      <td>4.4</td>\n",
              "    </tr>\n",
              "    <tr>\n",
              "      <th>3</th>\n",
              "      <td>Flipkart SmartBuy Back Cover for Mi Redmi Note...</td>\n",
              "      <td>₹258</td>\n",
              "      <td>4.4</td>\n",
              "    </tr>\n",
              "    <tr>\n",
              "      <th>4</th>\n",
              "      <td>Flipkart SmartBuy Back Cover for Mi Redmi Note...</td>\n",
              "      <td>₹258</td>\n",
              "      <td>4.3</td>\n",
              "    </tr>\n",
              "    <tr>\n",
              "      <th>5</th>\n",
              "      <td>Flipkart SmartBuy Back Cover for Mi Redmi Note...</td>\n",
              "      <td>₹149</td>\n",
              "      <td>4.3</td>\n",
              "    </tr>\n",
              "    <tr>\n",
              "      <th>6</th>\n",
              "      <td>Flipkart SmartBuy Flip Cover for Mi Redmi Note...</td>\n",
              "      <td>₹224</td>\n",
              "      <td>4.2</td>\n",
              "    </tr>\n",
              "    <tr>\n",
              "      <th>7</th>\n",
              "      <td>Flipkart SmartBuy Back Cover for Mi Redmi Note...</td>\n",
              "      <td>₹299</td>\n",
              "      <td>4.3</td>\n",
              "    </tr>\n",
              "    <tr>\n",
              "      <th>8</th>\n",
              "      <td>Flipkart SmartBuy Edge To Edge Tempered Glass ...</td>\n",
              "      <td>₹199</td>\n",
              "      <td>4.1</td>\n",
              "    </tr>\n",
              "    <tr>\n",
              "      <th>9</th>\n",
              "      <td>Flipkart SmartBuy Back Cover for Mi Redmi Note...</td>\n",
              "      <td>₹199</td>\n",
              "      <td>4.3</td>\n",
              "    </tr>\n",
              "    <tr>\n",
              "      <th>10</th>\n",
              "      <td>Flipkart SmartBuy Edge To Edge Tempered Glass ...</td>\n",
              "      <td>₹185</td>\n",
              "      <td>4.1</td>\n",
              "    </tr>\n",
              "    <tr>\n",
              "      <th>11</th>\n",
              "      <td>Flipkart SmartBuy Back Cover for Mi Redmi Note...</td>\n",
              "      <td>₹258</td>\n",
              "      <td>4.4</td>\n",
              "    </tr>\n",
              "    <tr>\n",
              "      <th>12</th>\n",
              "      <td>Flipkart SmartBuy Back Cover for Mi Redmi Note...</td>\n",
              "      <td>₹199</td>\n",
              "      <td>4.1</td>\n",
              "    </tr>\n",
              "    <tr>\n",
              "      <th>13</th>\n",
              "      <td>Flipkart SmartBuy Back Cover for Mi Redmi Note...</td>\n",
              "      <td>₹254</td>\n",
              "      <td>4.4</td>\n",
              "    </tr>\n",
              "    <tr>\n",
              "      <th>14</th>\n",
              "      <td>Flipkart SmartBuy Back Cover for Mi Redmi Note...</td>\n",
              "      <td>₹259</td>\n",
              "      <td>4.3</td>\n",
              "    </tr>\n",
              "    <tr>\n",
              "      <th>15</th>\n",
              "      <td>Flipkart SmartBuy Back Cover for Mi Redmi Note...</td>\n",
              "      <td>₹169</td>\n",
              "      <td>4</td>\n",
              "    </tr>\n",
              "    <tr>\n",
              "      <th>16</th>\n",
              "      <td>Flipkart SmartBuy Back Cover for Mi Redmi Note...</td>\n",
              "      <td>₹169</td>\n",
              "      <td>4.4</td>\n",
              "    </tr>\n",
              "    <tr>\n",
              "      <th>17</th>\n",
              "      <td>Flipkart SmartBuy Flip Cover for Mi Redmi Note...</td>\n",
              "      <td>₹249</td>\n",
              "      <td>4.2</td>\n",
              "    </tr>\n",
              "    <tr>\n",
              "      <th>18</th>\n",
              "      <td>Flipkart SmartBuy Back Cover for Mi Redmi Note...</td>\n",
              "      <td>₹399</td>\n",
              "      <td>4.2</td>\n",
              "    </tr>\n",
              "    <tr>\n",
              "      <th>19</th>\n",
              "      <td>Flipkart SmartBuy Back Cover for Mi Redmi Note...</td>\n",
              "      <td>₹199</td>\n",
              "      <td>4.3</td>\n",
              "    </tr>\n",
              "    <tr>\n",
              "      <th>20</th>\n",
              "      <td>Flipkart SmartBuy Back Cover for Mi Redmi Note...</td>\n",
              "      <td>₹399</td>\n",
              "      <td>4.2</td>\n",
              "    </tr>\n",
              "    <tr>\n",
              "      <th>21</th>\n",
              "      <td>Flipkart SmartBuy Back Cover for Mi Redmi Note...</td>\n",
              "      <td>₹199</td>\n",
              "      <td>4</td>\n",
              "    </tr>\n",
              "    <tr>\n",
              "      <th>22</th>\n",
              "      <td>Flipkart SmartBuy Back Cover for Mi Redmi Note...</td>\n",
              "      <td>₹259</td>\n",
              "      <td>4.4</td>\n",
              "    </tr>\n",
              "    <tr>\n",
              "      <th>23</th>\n",
              "      <td>Flipkart SmartBuy Flip Cover for Mi Redmi Note...</td>\n",
              "      <td>₹233</td>\n",
              "      <td>4.5</td>\n",
              "    </tr>\n",
              "    <tr>\n",
              "      <th>24</th>\n",
              "      <td>Flipkart SmartBuy Flip Cover for Mi Redmi Note...</td>\n",
              "      <td>₹229</td>\n",
              "      <td>4.2</td>\n",
              "    </tr>\n",
              "    <tr>\n",
              "      <th>25</th>\n",
              "      <td>Flipkart SmartBuy Back Cover for Mi Redmi Note...</td>\n",
              "      <td>₹179</td>\n",
              "      <td>4.1</td>\n",
              "    </tr>\n",
              "    <tr>\n",
              "      <th>26</th>\n",
              "      <td>Flipkart SmartBuy Back Cover for Mi Redmi Note...</td>\n",
              "      <td>₹209</td>\n",
              "      <td>4.2</td>\n",
              "    </tr>\n",
              "    <tr>\n",
              "      <th>27</th>\n",
              "      <td>Flipkart SmartBuy Back Cover for Mi Redmi Note...</td>\n",
              "      <td>₹259</td>\n",
              "      <td>4.4</td>\n",
              "    </tr>\n",
              "    <tr>\n",
              "      <th>28</th>\n",
              "      <td>Flipkart SmartBuy Back Cover for Mi Redmi Note...</td>\n",
              "      <td>₹259</td>\n",
              "      <td>4.2</td>\n",
              "    </tr>\n",
              "    <tr>\n",
              "      <th>29</th>\n",
              "      <td>Flipkart SmartBuy Back Cover for Mi Redmi Note...</td>\n",
              "      <td>₹149</td>\n",
              "      <td>4</td>\n",
              "    </tr>\n",
              "    <tr>\n",
              "      <th>30</th>\n",
              "      <td>Flipkart SmartBuy Back Cover for Mi Redmi Note...</td>\n",
              "      <td>₹238</td>\n",
              "      <td>4.4</td>\n",
              "    </tr>\n",
              "    <tr>\n",
              "      <th>31</th>\n",
              "      <td>Flipkart SmartBuy Back Cover for Mi Redmi Note...</td>\n",
              "      <td>₹248</td>\n",
              "      <td>4.2</td>\n",
              "    </tr>\n",
              "    <tr>\n",
              "      <th>32</th>\n",
              "      <td>Flipkart SmartBuy Back Cover for Mi Redmi Note...</td>\n",
              "      <td>₹169</td>\n",
              "      <td>4.2</td>\n",
              "    </tr>\n",
              "    <tr>\n",
              "      <th>33</th>\n",
              "      <td>Flipkart SmartBuy Back Cover for Mi Redmi Note...</td>\n",
              "      <td>₹169</td>\n",
              "      <td>4.1</td>\n",
              "    </tr>\n",
              "    <tr>\n",
              "      <th>34</th>\n",
              "      <td>Flipkart SmartBuy Back Cover for Mi Redmi Note...</td>\n",
              "      <td>₹144</td>\n",
              "      <td>4.1</td>\n",
              "    </tr>\n",
              "    <tr>\n",
              "      <th>35</th>\n",
              "      <td>Flipkart SmartBuy Back Cover for Mi Redmi Note...</td>\n",
              "      <td>₹259</td>\n",
              "      <td>4.3</td>\n",
              "    </tr>\n",
              "    <tr>\n",
              "      <th>36</th>\n",
              "      <td>Flipkart SmartBuy Back Cover for Mi Redmi Note...</td>\n",
              "      <td>₹189</td>\n",
              "      <td>4.3</td>\n",
              "    </tr>\n",
              "    <tr>\n",
              "      <th>37</th>\n",
              "      <td>Flipkart SmartBuy Back Cover for Mi Redmi Note...</td>\n",
              "      <td>₹169</td>\n",
              "      <td>4</td>\n",
              "    </tr>\n",
              "    <tr>\n",
              "      <th>38</th>\n",
              "      <td>Flipkart SmartBuy Flip Cover for Mi Redmi Note...</td>\n",
              "      <td>₹249</td>\n",
              "      <td>4.2</td>\n",
              "    </tr>\n",
              "    <tr>\n",
              "      <th>39</th>\n",
              "      <td>Flipkart SmartBuy Back Cover for Mi Redmi Note...</td>\n",
              "      <td>₹259</td>\n",
              "      <td>4.3</td>\n",
              "    </tr>\n",
              "  </tbody>\n",
              "</table>\n",
              "</div>"
            ],
            "text/plain": [
              "                                                title price review\n",
              "0   Flipkart SmartBuy Back Cover for Mi Redmi Note...  ₹199    4.3\n",
              "1   Flipkart SmartBuy Flip Cover for Mi Redmi Note...  ₹225    4.2\n",
              "2   Flipkart SmartBuy Back Cover for Mi Redmi Note...  ₹257    4.4\n",
              "3   Flipkart SmartBuy Back Cover for Mi Redmi Note...  ₹258    4.4\n",
              "4   Flipkart SmartBuy Back Cover for Mi Redmi Note...  ₹258    4.3\n",
              "5   Flipkart SmartBuy Back Cover for Mi Redmi Note...  ₹149    4.3\n",
              "6   Flipkart SmartBuy Flip Cover for Mi Redmi Note...  ₹224    4.2\n",
              "7   Flipkart SmartBuy Back Cover for Mi Redmi Note...  ₹299    4.3\n",
              "8   Flipkart SmartBuy Edge To Edge Tempered Glass ...  ₹199    4.1\n",
              "9   Flipkart SmartBuy Back Cover for Mi Redmi Note...  ₹199    4.3\n",
              "10  Flipkart SmartBuy Edge To Edge Tempered Glass ...  ₹185    4.1\n",
              "11  Flipkart SmartBuy Back Cover for Mi Redmi Note...  ₹258    4.4\n",
              "12  Flipkart SmartBuy Back Cover for Mi Redmi Note...  ₹199    4.1\n",
              "13  Flipkart SmartBuy Back Cover for Mi Redmi Note...  ₹254    4.4\n",
              "14  Flipkart SmartBuy Back Cover for Mi Redmi Note...  ₹259    4.3\n",
              "15  Flipkart SmartBuy Back Cover for Mi Redmi Note...  ₹169      4\n",
              "16  Flipkart SmartBuy Back Cover for Mi Redmi Note...  ₹169    4.4\n",
              "17  Flipkart SmartBuy Flip Cover for Mi Redmi Note...  ₹249    4.2\n",
              "18  Flipkart SmartBuy Back Cover for Mi Redmi Note...  ₹399    4.2\n",
              "19  Flipkart SmartBuy Back Cover for Mi Redmi Note...  ₹199    4.3\n",
              "20  Flipkart SmartBuy Back Cover for Mi Redmi Note...  ₹399    4.2\n",
              "21  Flipkart SmartBuy Back Cover for Mi Redmi Note...  ₹199      4\n",
              "22  Flipkart SmartBuy Back Cover for Mi Redmi Note...  ₹259    4.4\n",
              "23  Flipkart SmartBuy Flip Cover for Mi Redmi Note...  ₹233    4.5\n",
              "24  Flipkart SmartBuy Flip Cover for Mi Redmi Note...  ₹229    4.2\n",
              "25  Flipkart SmartBuy Back Cover for Mi Redmi Note...  ₹179    4.1\n",
              "26  Flipkart SmartBuy Back Cover for Mi Redmi Note...  ₹209    4.2\n",
              "27  Flipkart SmartBuy Back Cover for Mi Redmi Note...  ₹259    4.4\n",
              "28  Flipkart SmartBuy Back Cover for Mi Redmi Note...  ₹259    4.2\n",
              "29  Flipkart SmartBuy Back Cover for Mi Redmi Note...  ₹149      4\n",
              "30  Flipkart SmartBuy Back Cover for Mi Redmi Note...  ₹238    4.4\n",
              "31  Flipkart SmartBuy Back Cover for Mi Redmi Note...  ₹248    4.2\n",
              "32  Flipkart SmartBuy Back Cover for Mi Redmi Note...  ₹169    4.2\n",
              "33  Flipkart SmartBuy Back Cover for Mi Redmi Note...  ₹169    4.1\n",
              "34  Flipkart SmartBuy Back Cover for Mi Redmi Note...  ₹144    4.1\n",
              "35  Flipkart SmartBuy Back Cover for Mi Redmi Note...  ₹259    4.3\n",
              "36  Flipkart SmartBuy Back Cover for Mi Redmi Note...  ₹189    4.3\n",
              "37  Flipkart SmartBuy Back Cover for Mi Redmi Note...  ₹169      4\n",
              "38  Flipkart SmartBuy Flip Cover for Mi Redmi Note...  ₹249    4.2\n",
              "39  Flipkart SmartBuy Back Cover for Mi Redmi Note...  ₹259    4.3"
            ]
          },
          "metadata": {
            "tags": []
          },
          "execution_count": 12
        }
      ]
    }
  ]
}